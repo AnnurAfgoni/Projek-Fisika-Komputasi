{
 "cells": [
  {
   "cell_type": "markdown",
   "metadata": {},
   "source": [
    "# Nama : Annur Afgoni"
   ]
  },
  {
   "cell_type": "markdown",
   "metadata": {},
   "source": [
    "# NIM : G1B017006"
   ]
  },
  {
   "cell_type": "markdown",
   "metadata": {},
   "source": [
    "## osilasi sederhana massa-pegas dengan metode Verlet versi kecepatan."
   ]
  },
  {
   "cell_type": "markdown",
   "metadata": {},
   "source": [
    "Dari persamaan Newton, kita dapatkan nilai percepatan pada osilasi pegas:"
   ]
  },
  {
   "cell_type": "markdown",
   "metadata": {},
   "source": [
    "$$\\frac{d^{2}x}{dt^2}=\\frac{-k}{m}\\Delta x$$"
   ]
  },
  {
   "cell_type": "markdown",
   "metadata": {},
   "source": [
    "Kita juga bisa mendefinisikan percepatan menjadi turunan dari kecepatan :"
   ]
  },
  {
   "cell_type": "markdown",
   "metadata": {},
   "source": [
    "$$\\frac{dv_x}{dt}=\\frac{d^{2}x}{dt^2}=\\frac{-k}{m}\\Delta x$$"
   ]
  },
  {
   "cell_type": "markdown",
   "metadata": {},
   "source": [
    "Dengan rumus dari metode verlet versi kecepatan :"
   ]
  },
  {
   "cell_type": "markdown",
   "metadata": {},
   "source": [
    "$$x_{n+1}=x_n+v_n\\Delta t+\\frac{1}{2}a_{x,n}(\\Delta x)^{2}$$\n",
    "$$v_{x,n+1}=v_{x,n}+\\frac{1}{2}(a_{x,n}+a_{x,n+1})\\Delta t$$"
   ]
  },
  {
   "cell_type": "code",
   "execution_count": 1,
   "metadata": {},
   "outputs": [],
   "source": [
    "%matplotlib inline"
   ]
  },
  {
   "cell_type": "code",
   "execution_count": 2,
   "metadata": {},
   "outputs": [
    {
     "data": {
      "text/html": [
       "<div id=\"glowscript\" class=\"glowscript\"></div>"
      ],
      "text/plain": [
       "<IPython.core.display.HTML object>"
      ]
     },
     "metadata": {},
     "output_type": "display_data"
    },
    {
     "data": {
      "application/javascript": [
       "if (typeof Jupyter !== \"undefined\") { window.__context = { glowscript_container: $(\"#glowscript\").removeAttr(\"id\")};}else{ element.textContent = ' ';}"
      ],
      "text/plain": [
       "<IPython.core.display.Javascript object>"
      ]
     },
     "metadata": {},
     "output_type": "display_data"
    }
   ],
   "source": [
    "import numpy as np\n",
    "import matplotlib.pyplot as plt\n",
    "from vpython import *"
   ]
  },
  {
   "cell_type": "code",
   "execution_count": null,
   "metadata": {},
   "outputs": [
    {
     "data": {
      "text/html": [
       "<div id=\"glowscript\" class=\"glowscript\"></div>"
      ],
      "text/plain": [
       "<IPython.core.display.HTML object>"
      ]
     },
     "metadata": {},
     "output_type": "display_data"
    },
    {
     "data": {
      "application/javascript": [
       "if (typeof Jupyter !== \"undefined\") { window.__context = { glowscript_container: $(\"#glowscript\").removeAttr(\"id\")};}else{ element.textContent = ' ';}"
      ],
      "text/plain": [
       "<IPython.core.display.Javascript object>"
      ]
     },
     "metadata": {},
     "output_type": "display_data"
    },
    {
     "data": {
      "application/javascript": [
       "if (typeof Jupyter !== \"undefined\") {require.undef(\"nbextensions/vpython_libraries/glow.min\");}else{element.textContent = ' ';}"
      ],
      "text/plain": [
       "<IPython.core.display.Javascript object>"
      ]
     },
     "metadata": {},
     "output_type": "display_data"
    },
    {
     "data": {
      "application/javascript": [
       "if (typeof Jupyter !== \"undefined\") {require.undef(\"nbextensions/vpython_libraries/glowcomm\");}else{element.textContent = ' ';}"
      ],
      "text/plain": [
       "<IPython.core.display.Javascript object>"
      ]
     },
     "metadata": {},
     "output_type": "display_data"
    },
    {
     "data": {
      "application/javascript": [
       "if (typeof Jupyter !== \"undefined\") {require.undef(\"nbextensions/vpython_libraries/jquery-ui.custom.min\");}else{element.textContent = ' ';}"
      ],
      "text/plain": [
       "<IPython.core.display.Javascript object>"
      ]
     },
     "metadata": {},
     "output_type": "display_data"
    },
    {
     "data": {
      "application/javascript": [
       "if (typeof Jupyter !== \"undefined\") {require([\"nbextensions/vpython_libraries/glow.min\"], function(){console.log(\"GLOW LOADED\");});}else{element.textContent = ' ';}"
      ],
      "text/plain": [
       "<IPython.core.display.Javascript object>"
      ]
     },
     "metadata": {},
     "output_type": "display_data"
    },
    {
     "data": {
      "application/javascript": [
       "if (typeof Jupyter !== \"undefined\") {require([\"nbextensions/vpython_libraries/glowcomm\"], function(){console.log(\"GLOWCOMM LOADED\");});}else{element.textContent = ' ';}"
      ],
      "text/plain": [
       "<IPython.core.display.Javascript object>"
      ]
     },
     "metadata": {},
     "output_type": "display_data"
    },
    {
     "data": {
      "application/javascript": [
       "if (typeof Jupyter !== \"undefined\") {require([\"nbextensions/vpython_libraries/jquery-ui.custom.min\"], function(){console.log(\"JQUERY LOADED\");});}else{element.textContent = ' ';}"
      ],
      "text/plain": [
       "<IPython.core.display.Javascript object>"
      ]
     },
     "metadata": {},
     "output_type": "display_data"
    }
   ],
   "source": [
    "#Iterasi metode verlet versi kecepatan\n",
    "\n",
    "#Notasi :\n",
    "#xn untuk posisi pada indeks n\n",
    "#xnp1 untuk posisi pada indeks n+1\n",
    "#xnm1 untuk posisi pada indeks n-1\n",
    "\n",
    "import math\n",
    "\n",
    "#inisiasi parameter\n",
    "\n",
    "scene = canvas(title='Osilasi Pegas', width=400, height=400, center=vector(0,0,0))\n",
    "\n",
    "#sun = sphere(pos=vector(0,0,0), radius= 0.3, color=color.yellow)\n",
    "#sun = sphere(pos=vector(0,0,0), radius= 0.3, color=color.yellow)\n",
    "planet = sphere(pos=vector(0,0,0), radius= 0.1, color=color.blue) #, make_trail=True)\n",
    "#tali = cylinder(pos=vector(0,1,0), axis=vector(sin(60*pi/180),-cos(60*pi/180),0), radius=0.01)\n",
    "\n",
    "#Delta t dalam sekon\n",
    "dt = 0.05\n",
    "\n",
    "#posisi awal (m) dan kecepatan awal\n",
    "x0 = 0.0\n",
    "vx0 = -10.0\n",
    "\n",
    "#Nilai awal\n",
    "xn = x0\n",
    "vxn = vx0\n",
    "\n",
    "#array\n",
    "x = [x0]\n",
    "vx = [vx0]\n",
    "t = [0.0]\n",
    "tn = 0.0\n",
    "\n",
    "k = 100\n",
    "m = 0.6\n",
    "\n",
    "omega = -math.sqrt(k/m)\n",
    "\n",
    "axn = omega*x0\n",
    "#for i in range (40):\n",
    "while (True):   \n",
    "    #metode verlet versi posisi\n",
    "    vxnp1 = vxn + 0.5*axn*dt\n",
    "    xnp1 = xn + vxn*dt + 0.5*axn*dt**2\n",
    "    \n",
    "    #Update percepatan\n",
    "    axn = omega*xn\n",
    "    vxnp1 = vxnp1 + 0.5*axn*dt\n",
    "    \n",
    "    #simpan untuk iterasi selanjutnya\n",
    "    xn = xnp1\n",
    "    vxn = vxnp1\n",
    "    tn = tn + dt\n",
    "    \n",
    "    #Simpan hasil pada list\n",
    "    x.append(xn)\n",
    "    vx.append(vxn)\n",
    "    t.append(tn)\n",
    "    \n",
    "    rate(20)\n",
    "    planet.pos = vector(xn, 0, 0)"
   ]
  },
  {
   "cell_type": "code",
   "execution_count": null,
   "metadata": {},
   "outputs": [],
   "source": [
    "#Nilai eksak dihitung dengan \n",
    "#Persamaan gerak pegas\n",
    "xe = [x0]\n",
    "vxe = [vx0]\n",
    "\n",
    "scene = canvas(title='Osilasi Pegas', width=400, height=400, center=vector(0,0,0))\n",
    "planet = sphere(pos=vector(0,-1.5,0), radius= 0.1, color=color.blue, make_trail=True)\n",
    "\n",
    "tn = 0.0\n",
    "\n",
    "k = 100\n",
    "m = 0.6\n",
    "\n",
    "omega = -math.sqrt(k/m)\n",
    "\n",
    "axn = omega*x0\n",
    "for i in range (40):\n",
    "    tn = tn + dt\n",
    "    \n",
    "    #persamaan gerak\n",
    "   \n",
    "    vxn = vx0 + axn*tn\n",
    "    xn = x0 + vx0*tn + 0.5*axn*tn**2\n",
    "    \n",
    "    axn = omega*xn\n",
    "    #simpan\n",
    "    vxe.append(vxn)\n",
    "    xe.append(xn)\n",
    "    \n",
    "    # Not Solved by me the exact solution"
   ]
  },
  {
   "cell_type": "code",
   "execution_count": null,
   "metadata": {},
   "outputs": [],
   "source": [
    "#Visualisasi\n",
    "plt.plot(t,x,\"-ob\", label = \"Metode verlet kecepatan\")\n",
    "#plt.plot(t,xe,\"-r\", label = \"Eksak\")\n",
    "plt.xlabel(\"$t$\")\n",
    "plt.ylabel(\"$x$\")\n",
    "plt.legend()\n",
    "plt.show()"
   ]
  }
 ],
 "metadata": {
  "kernelspec": {
   "display_name": "Python 3",
   "language": "python",
   "name": "python3"
  },
  "language_info": {
   "codemirror_mode": {
    "name": "ipython",
    "version": 3
   },
   "file_extension": ".py",
   "mimetype": "text/x-python",
   "name": "python",
   "nbconvert_exporter": "python",
   "pygments_lexer": "ipython3",
   "version": "3.8.5"
  }
 },
 "nbformat": 4,
 "nbformat_minor": 2
}
